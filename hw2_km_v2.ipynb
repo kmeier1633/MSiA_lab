{
 "cells": [
  {
   "cell_type": "markdown",
   "metadata": {},
   "source": [
    "# Kristin Meier\n",
    "# Hw 2\n",
    "\n",
    "### Sort Algorithms\n",
    "Write a program (2 functions) that works exactly like the sorted() built-in function in python. Follow the following:\n",
    "1. Function has 3 input parameters: iterable of objects, key, and reversed.\n",
    "2. List can be numeric, string, or comparable user defined objects\n",
    "3. The function returns a new sorted list\n",
    "4. The function also returns:\n",
    "    - Number of comparisons\n",
    "    - Number of swaps\n",
    "    - Timer measure\n",
    "5. Implement both bubble and merge sort.\n",
    "6. Compare your functions on a randomly generated data\n",
    "7. Present your findings thru plots and summary tables\n",
    "\n",
    "Document step-by-step how to use/run your code.\n",
    "\n",
    "**Note: I wrote my comments as markdown cells and have been including links for reference so I can keep the materials organized.**\n",
    "\n",
    "### Helpful links\n",
    "- [Bubble Sort](https://interactivepython.org/runestone/static/pythonds/SortSearch/TheBubbleSort.html)\n",
    "- [Merge Sort](http://interactivepython.org/courselib/static/pythonds/SortSearch/TheMergeSort.html)\n",
    "- [Merge Sort hw](http://stackoverflow.com/questions/40050849/merge-sort-count-comparisons)\n",
    "- [Merge Sort help code](http://stackoverflow.com/questions/18761766/mergesort-python)\n",
    "- [Sorting How To - Python](https://wiki.python.org/moin/HowTo/Sorting)\n",
    "    - Starting with Python 2.4, both list.sort() and sorted() added a key parameter to specify a function to be called on each list element prior to making comparisons. \n",
    "    - The value of the key parameter should be a function that takes a single argument and returns a key to use for sorting purposes. This technique is fast because the key function is called exactly once for each input record. A common pattern is to sort complex objects using some of the object's indices as a key\n",
    "- [Timer](http://stackoverflow.com/questions/7370801/measure-time-elapsed-in-python)\n",
    "- [Python Library Built in Functions](https://docs.python.org/2/library/functions.html)\n",
    "- [Python Sorting](https://developers.google.com/edu/python/sorting)\n",
    "- [Sorting Examples](http://www.thegeekstuff.com/2014/06/python-sorted/)\n",
    "- [C source code](http://svn.python.org/view/python/trunk/Objects/listobject.c?revision=69227&view=markup)\n",
    "- [Sorting visual](http://sorting.at/)\n",
    "\n"
   ]
  },
  {
   "cell_type": "code",
   "execution_count": 1,
   "metadata": {
    "collapsed": true
   },
   "outputs": [],
   "source": [
    "# import necessary libraries\n",
    "from timeit import default_timer as timer\n",
    "from operator import itemgetter\n",
    "import random\n",
    "from random_words import RandomWords\n",
    "rw = RandomWords()\n",
    "import numpy as np\n",
    "import pylab as plt\n",
    "import plotly.plotly as py\n",
    "import matplotlib.pyplot as plt\n",
    "import pylab\n",
    "import matplotlib.patches as mpatches\n",
    "from pandas import DataFrame as df"
   ]
  },
  {
   "cell_type": "markdown",
   "metadata": {},
   "source": [
    "## Bubble Sort Function\n",
    "\n",
    "- Parameters\n",
    "    - alist = list to be sorted\n",
    "    - reverse = True/False\n",
    "    - key = function for which to sort on, if applicable\n",
    "    - toprint = True/False , prints output as list if True\n",
    "- Returns\n",
    "    - toprint = T: prints of sorted list, number of comparisons, number of swaps and elapsed time\n",
    "    - toprint = F: list of sorted list, number of comparisons, number of swaps and elapsed time"
   ]
  },
  {
   "cell_type": "code",
   "execution_count": 2,
   "metadata": {
    "collapsed": false
   },
   "outputs": [],
   "source": [
    "# bubble sort function w extra parameters\n",
    "def bubbleSort(alist, \n",
    "               reverse = 'False', \n",
    "               key = lambda x:x,\n",
    "               toprint = 'True'):\n",
    "\n",
    "    # initialize timer\n",
    "    start_time = timer()\n",
    "    # initialize comparison count\n",
    "    comparison_count = 0\n",
    "    # initialize swap count\n",
    "    swap_count = 0\n",
    "    \n",
    "    if reverse == 'False':\n",
    "        for passnum in range(len(alist)-1,0,-1):\n",
    "\n",
    "            for i in range(passnum):\n",
    "                # increase comparison count by 1\n",
    "                comparison_count += 1\n",
    "\n",
    "                if key(alist[i])>key(alist[i+1]):\n",
    "                    # increase swap count by 1\n",
    "                    swap_count += 1\n",
    "                    # don't need to use temp can jst swap them\n",
    "                    alist[i],alist[i+1] = alist[i+1],alist[i]\n",
    "    \n",
    "    # can't just flip list at the end b/c # swaps will be incorrect\n",
    "    # ex. [4,3,2,1] reverse = T should have 0 swaps\n",
    "    if reverse == 'True':\n",
    "        for passnum in range(len(alist)-1,0,-1):\n",
    "\n",
    "            for i in range(passnum):\n",
    "                # increase comparison count by 1\n",
    "                comparison_count += 1\n",
    "\n",
    "                if key(alist[i])<key(alist[i+1]):\n",
    "                    # increase swap count by 1\n",
    "                    swap_count += 1\n",
    "                    # don't need to use temp can jst swap them\n",
    "                    alist[i],alist[i+1] = alist[i+1],alist[i]\n",
    "    \n",
    "    # stop the timer            \n",
    "    end_time = timer()\n",
    "    \n",
    "    if toprint == 'True':\n",
    "        print(alist)\n",
    "        print('Comparison Count:',comparison_count)\n",
    "        print('Swap Count:',swap_count)\n",
    "        print('Elapsed Time:',end_time - start_time)\n",
    "    \n",
    "    else:\n",
    "        return(alist,[comparison_count,swap_count, end_time-start_time])"
   ]
  },
  {
   "cell_type": "markdown",
   "metadata": {},
   "source": [
    "### Bubble sort function output"
   ]
  },
  {
   "cell_type": "code",
   "execution_count": 3,
   "metadata": {
    "collapsed": false
   },
   "outputs": [
    {
     "name": "stdout",
     "output_type": "stream",
     "text": [
      "[1, 2, 3, 4, 5, 6]\n",
      "Comparison Count: 15\n",
      "Swap Count: 15\n",
      "Elapsed Time: 3.015101538039744e-05\n",
      "['This', 'test', 'string', 'is', 'from', 'Andrew', 'a']\n",
      "Comparison Count: 21\n",
      "Swap Count: 6\n",
      "Elapsed Time: 4.004800575785339e-05\n"
     ]
    }
   ],
   "source": [
    "NL2 = [6,5,4,3,2,1]\n",
    "bubbleSort(NL2,reverse='False')\n",
    "WL = \"This is a test string from Andrew\".split()\n",
    "bubbleSort(WL,reverse='True',key=str.lower)"
   ]
  },
  {
   "cell_type": "markdown",
   "metadata": {},
   "source": [
    "## Merge Sort Function\n",
    "\n",
    "Pass the timer only once, when the function is initialized (it is called recursively). This function will print the output but if toprint = 'False' it will return a list to be referenced later.\n",
    "\n",
    "- Parameters\n",
    "    - a_list = list to be sorted\n",
    "    - reverse = True/False\n",
    "    - key = function for which to sort on, if applicable\n",
    "    - toprint = True/False , prints output as list if True\n",
    "    - newtime, comparison_count, swap_count: initializes counts and timer for output\n",
    "- Returns\n",
    "    - toprint = T: prints of sorted list, number of comparisons, number of swaps and elapsed time\n",
    "    - toprint = F: list of sorted list, number of comparisons, number of swaps and elapsed time"
   ]
  },
  {
   "cell_type": "code",
   "execution_count": 4,
   "metadata": {
    "collapsed": true
   },
   "outputs": [],
   "source": [
    "# so comparisons and swaps only occur on the merging portion\n",
    "# check that the counts are in the correct place. newtime argument allows the print to only happen 1x\n",
    "# Pass the timer only once, when the function is initialized (it is called recursively). \n",
    "\n",
    "def merge_sort(a_list, \n",
    "               reverse = 'False',\n",
    "               newtime = 'True',\n",
    "               comparison_count = 0,\n",
    "               swap_count = 0,\n",
    "               toprint = 'True',\n",
    "               key = lambda x:x):\n",
    "    \n",
    "    if newtime == 'True':\n",
    "        start_time = timer()\n",
    "    \n",
    "    #print(\"Splitting \", a_list)\n",
    "    if len(a_list) > 1:\n",
    "        mid = len(a_list) // 2\n",
    "        left_half = a_list[:mid]\n",
    "        right_half = a_list[mid:]\n",
    "        # the function is called again...could mess up counter, pass the arguments through here \n",
    "        # including key argument\n",
    "        merge_sort(a_list=left_half, reverse=reverse, newtime='False',\n",
    "                    comparison_count=comparison_count, swap_count=swap_count, key=key)\n",
    "        merge_sort(a_list=right_half, reverse=reverse, newtime='False',\n",
    "                    comparison_count=comparison_count, swap_count=swap_count, key=key)\n",
    "\n",
    "        i = 0\n",
    "        j = 0\n",
    "        k = 0    \n",
    "\n",
    "        while i < len(left_half) and j < len(right_half):\n",
    "            # increase comparison count by 1\n",
    "            comparison_count += 1 \n",
    "                \n",
    "                \n",
    "            # IF REGULAR\n",
    "            if reverse == 'False':\n",
    "                if key(left_half[i]) < key(right_half[j]):    \n",
    "                    a_list[k] = left_half[i]\n",
    "                    i = i + 1\n",
    "                else:\n",
    "                    # would this be a swap situation: right side is larger than left\n",
    "                    # increase swap count by 1\n",
    "                    swap_count += 1\n",
    "\n",
    "                    a_list[k] = right_half[j]\n",
    "                    j = j + 1\n",
    "                k = k + 1\n",
    "\n",
    "            # IF REVERSE\n",
    "            if reverse == 'True':    \n",
    "                if key(left_half[i]) > key(right_half[j]):\n",
    "                    a_list[k] = left_half[i]\n",
    "                    i = i + 1\n",
    "                else:\n",
    "                    # would this be a swap situation: right side is larger than left\n",
    "                    # increase swap count by 1\n",
    "                    swap_count += 1\n",
    "\n",
    "                    a_list[k] = right_half[j]\n",
    "                    j = j + 1\n",
    "                k = k + 1\n",
    "                \n",
    "        while i < len(left_half):\n",
    "            a_list[k] = left_half[i]\n",
    "            i = i + 1\n",
    "            k = k + 1\n",
    "\n",
    "        while j < len(right_half):\n",
    "            a_list[k] = right_half[j]\n",
    "            j = j + 1\n",
    "            k = k + 1\n",
    "    #print(\"Merging \", a_list)\n",
    "     \n",
    "   \n",
    "    if newtime == 'True' and toprint == 'True':\n",
    "        print(a_list)\n",
    "        print('Comparison Count:',comparison_count)\n",
    "        print('Swap Count:',swap_count)\n",
    "        print('Elapsed Time:',timer() - start_time)\n",
    "    if newtime == 'True' and toprint == 'False':\n",
    "        return(a_list,[comparison_count,swap_count, timer()-start_time])\n",
    "    "
   ]
  },
  {
   "cell_type": "markdown",
   "metadata": {},
   "source": [
    "### Merge sort function output"
   ]
  },
  {
   "cell_type": "code",
   "execution_count": 5,
   "metadata": {
    "collapsed": false
   },
   "outputs": [
    {
     "name": "stdout",
     "output_type": "stream",
     "text": [
      "[5, 4, 3, 2, 1]\n",
      "Comparison Count: 4\n",
      "Swap Count: 2\n",
      "Elapsed Time: 0.000108768988866359\n",
      "['This', 'test', 'string', 'is', 'from', 'Andrew', 'a']\n",
      "Comparison Count: 6\n",
      "Swap Count: 4\n",
      "Elapsed Time: 7.80120026320219e-05\n"
     ]
    }
   ],
   "source": [
    "WL = \"This is a test string from Andrew\".split()\n",
    "NL = [5, 2, 3, 1, 4]\n",
    "merge_sort(NL,reverse='True')\n",
    "merge_sort(WL,reverse='True',key=str.lower)"
   ]
  },
  {
   "cell_type": "markdown",
   "metadata": {},
   "source": [
    "## Create function for randomly generated data\n",
    "\n",
    "- Create randomly generated data in form of numbers, words, or pairs of numbers\n",
    "- randlist()\n",
    "    - Parameters:\n",
    "        - listtype = words, numbers, or pairs\n",
    "        - length = length of list\n",
    "    - Returns:\n",
    "        - list\n",
    "- Loop through both functions using random data and store values for swaps/comparisons\n",
    "\n",
    "**Helpful Links**\n",
    "Issues with zip function\n",
    "- [python 2 > 3](http://stackoverflow.com/questions/31011631/python-2-3-object-of-type-zip-has-no-len)\n",
    "- (https://bradmontgomery.net/blog/pythons-zip-map-and-lambda/)"
   ]
  },
  {
   "cell_type": "code",
   "execution_count": 6,
   "metadata": {
    "collapsed": true
   },
   "outputs": [],
   "source": [
    "def randlist(length=25,\n",
    "             # listtype = words, numbers, pairs\n",
    "             listtype = 'words'):\n",
    "    # length is the length of the list\n",
    "    # random list of numbers\n",
    "    if listtype == 'numbers':\n",
    "        thelist = random.sample(range(1, 100000), length)\n",
    "    if listtype == 'words':\n",
    "        thelist = rw.random_words(count=length)\n",
    "    if listtype == 'pairs':\n",
    "        a = random.sample(range(1, 100000), length)\n",
    "        b = random.sample(range(1, 100000), length)\n",
    "        thelist = list(zip(a,b))\n",
    "    # randomly order\n",
    "    random.shuffle(thelist)\n",
    "    return thelist"
   ]
  },
  {
   "cell_type": "markdown",
   "metadata": {},
   "source": [
    "## Testing sort functions on random lists (of numbers)\n",
    "\n",
    "Calculates swaps and comparisons for both functions using different list lengths and types.\n",
    "This section loops through random lists of different lengths and saves output as a list. For this exercise, numeric lists are used with lengths 2 to 1000."
   ]
  },
  {
   "cell_type": "code",
   "execution_count": 7,
   "metadata": {
    "collapsed": false
   },
   "outputs": [],
   "source": [
    "bubble = []\n",
    "merge = []\n",
    "listlength = []\n",
    "typei = \"numbers\"\n",
    "\n",
    "for i in list(range(2,1000,20)):\n",
    "    input = randlist(length=i,listtype=typei)\n",
    "    bubble = bubble + [bubbleSort(input, reverse='False',toprint='False')]\n",
    "    listlength = listlength + [len(input)]\n",
    "\n",
    "for i in list(range(2,1000,20)):\n",
    "    input = randlist(length=i,listtype=typei)\n",
    "    merge = merge + [merge_sort(input, reverse='False', toprint='False')]"
   ]
  },
  {
   "cell_type": "markdown",
   "metadata": {},
   "source": [
    "## Data for comparison tables and charts\n",
    "\n",
    "Now the specific output are extracted from the lists. Saving the list comparison count, swap count, and time will allow for easy plotting of the data."
   ]
  },
  {
   "cell_type": "code",
   "execution_count": 8,
   "metadata": {
    "collapsed": false
   },
   "outputs": [],
   "source": [
    "# get list of comparison number, swap number, and time number for plotting\n",
    "merge_comps = []\n",
    "merge_swaps = []\n",
    "merge_times = []\n",
    "bubble_comps = []\n",
    "bubble_swaps = []\n",
    "bubble_times = []\n",
    "\n",
    "for i in range(1,len(merge)):\n",
    "    merge_comps = merge_comps + [merge[i][1][0]]\n",
    "    merge_swaps = merge_swaps + [merge[i][1][1]]\n",
    "    merge_times = merge_times + [merge[i][1][2]]\n",
    "    bubble_comps = bubble_comps + [bubble[i][1][0]]\n",
    "    bubble_swaps = bubble_swaps + [bubble[i][1][1]]\n",
    "    bubble_times = bubble_times + [bubble[i][1][2]]\n"
   ]
  },
  {
   "cell_type": "markdown",
   "metadata": {},
   "source": [
    "## Summary Tables - for random numeric lists from length 2-1000\n",
    "\n",
    "Prepare summary tables of output data such as number of comparisons, number of swaps, and elapsed time.\n",
    "\n",
    "\n",
    "**Helpful Links**\n",
    "- [10 minutes to pandas](http://pandas.pydata.org/pandas-docs/version/0.15.2/10min.html)\n",
    "- [Pandas doc](http://pandas.pydata.org/pandas-docs/stable/generated/pandas.DataFrame.html)\n",
    "- [Summary Statistics](http://www.marsja.se/pandas-python-descriptive-statistics/)\n",
    "- [Describe data frame](http://stackoverflow.com/questions/22235245/calculate-summary-statistics-of-columns-in-dataframe/22235393)\n",
    "- [Group by example](http://stackoverflow.com/questions/37532525/python-pandas-create-summary-table)\n",
    "- [Summary table help](http://stackoverflow.com/questions/30263627/python-pandas-summary-table-plot)"
   ]
  },
  {
   "cell_type": "code",
   "execution_count": 9,
   "metadata": {
    "collapsed": false
   },
   "outputs": [
    {
     "data": {
      "text/html": [
       "<div>\n",
       "<table border=\"1\" class=\"dataframe\">\n",
       "  <thead>\n",
       "    <tr style=\"text-align: right;\">\n",
       "      <th></th>\n",
       "      <th>1_bubble_num_comp</th>\n",
       "      <th>1_merge_num_comp</th>\n",
       "      <th>2_bubble_num_swaps</th>\n",
       "      <th>2_merge_num_swaps</th>\n",
       "      <th>3_bubble_elapsed_time</th>\n",
       "      <th>3_merge_elapsed_time</th>\n",
       "    </tr>\n",
       "  </thead>\n",
       "  <tbody>\n",
       "    <tr>\n",
       "      <th>count</th>\n",
       "      <td>49.000</td>\n",
       "      <td>49.000</td>\n",
       "      <td>49.000</td>\n",
       "      <td>49.000</td>\n",
       "      <td>49.000</td>\n",
       "      <td>49.000</td>\n",
       "    </tr>\n",
       "    <tr>\n",
       "      <th>mean</th>\n",
       "      <td>165751.000</td>\n",
       "      <td>499.735</td>\n",
       "      <td>82662.633</td>\n",
       "      <td>249.980</td>\n",
       "      <td>0.098</td>\n",
       "      <td>0.005</td>\n",
       "    </tr>\n",
       "    <tr>\n",
       "      <th>std</th>\n",
       "      <td>147798.457</td>\n",
       "      <td>286.428</td>\n",
       "      <td>73994.068</td>\n",
       "      <td>143.083</td>\n",
       "      <td>0.089</td>\n",
       "      <td>0.003</td>\n",
       "    </tr>\n",
       "    <tr>\n",
       "      <th>min</th>\n",
       "      <td>231.000</td>\n",
       "      <td>18.000</td>\n",
       "      <td>127.000</td>\n",
       "      <td>11.000</td>\n",
       "      <td>0.000</td>\n",
       "      <td>0.000</td>\n",
       "    </tr>\n",
       "    <tr>\n",
       "      <th>25%</th>\n",
       "      <td>34191.000</td>\n",
       "      <td>260.000</td>\n",
       "      <td>17843.000</td>\n",
       "      <td>131.000</td>\n",
       "      <td>0.019</td>\n",
       "      <td>0.002</td>\n",
       "    </tr>\n",
       "    <tr>\n",
       "      <th>50%</th>\n",
       "      <td>125751.000</td>\n",
       "      <td>499.000</td>\n",
       "      <td>62395.000</td>\n",
       "      <td>251.000</td>\n",
       "      <td>0.070</td>\n",
       "      <td>0.005</td>\n",
       "    </tr>\n",
       "    <tr>\n",
       "      <th>75%</th>\n",
       "      <td>274911.000</td>\n",
       "      <td>741.000</td>\n",
       "      <td>137966.000</td>\n",
       "      <td>371.000</td>\n",
       "      <td>0.159</td>\n",
       "      <td>0.007</td>\n",
       "    </tr>\n",
       "    <tr>\n",
       "      <th>max</th>\n",
       "      <td>481671.000</td>\n",
       "      <td>980.000</td>\n",
       "      <td>235670.000</td>\n",
       "      <td>489.000</td>\n",
       "      <td>0.282</td>\n",
       "      <td>0.010</td>\n",
       "    </tr>\n",
       "  </tbody>\n",
       "</table>\n",
       "</div>"
      ],
      "text/plain": [
       "       1_bubble_num_comp  1_merge_num_comp  2_bubble_num_swaps  \\\n",
       "count             49.000            49.000              49.000   \n",
       "mean          165751.000           499.735           82662.633   \n",
       "std           147798.457           286.428           73994.068   \n",
       "min              231.000            18.000             127.000   \n",
       "25%            34191.000           260.000           17843.000   \n",
       "50%           125751.000           499.000           62395.000   \n",
       "75%           274911.000           741.000          137966.000   \n",
       "max           481671.000           980.000          235670.000   \n",
       "\n",
       "       2_merge_num_swaps  3_bubble_elapsed_time  3_merge_elapsed_time  \n",
       "count             49.000                 49.000                49.000  \n",
       "mean             249.980                  0.098                 0.005  \n",
       "std              143.083                  0.089                 0.003  \n",
       "min               11.000                  0.000                 0.000  \n",
       "25%              131.000                  0.019                 0.002  \n",
       "50%              251.000                  0.070                 0.005  \n",
       "75%              371.000                  0.159                 0.007  \n",
       "max              489.000                  0.282                 0.010  "
      ]
     },
     "execution_count": 9,
     "metadata": {},
     "output_type": "execute_result"
    }
   ],
   "source": [
    "data = df(data = {\n",
    " '1_bubble_num_comp': bubble_comps\n",
    ",'1_merge_num_comp': merge_comps\n",
    ",'2_bubble_num_swaps': bubble_swaps\n",
    ",'2_merge_num_swaps': merge_swaps\n",
    ",'3_bubble_elapsed_time':bubble_times\n",
    ",'3_merge_elapsed_time': merge_times})\n",
    "\n",
    "data.describe().round(3)"
   ]
  },
  {
   "cell_type": "markdown",
   "metadata": {},
   "source": [
    "## Creating plot functions for comparison\n",
    "\n",
    "Scatterplots and histograms will be used to showcase the distributions of counts for the various outputs.\n",
    "\n",
    "- comparescat(): scatterplots\n",
    "- comparehist(): histograms (less helpful due to scale difference)\n",
    "    - Parameters\n",
    "        - bubbledata: list of bubble sort performance data\n",
    "        - mergedata: list of bubble sort performance data\n",
    "        - listdata: list of list lengths from performance data\n",
    "        - title: title of chart"
   ]
  },
  {
   "cell_type": "code",
   "execution_count": 10,
   "metadata": {
    "collapsed": true
   },
   "outputs": [],
   "source": [
    "\n",
    "def comparescat(bubbledata,\n",
    "               mergedata,\n",
    "                listdata,\n",
    "               title=''):\n",
    "    # http://stackoverflow.com/questions/26690480/matplotlib-valueerror-x-and-y-must-have-same-first-dimension\n",
    "    x = np.array([listdata])\n",
    "    y = np.array([bubbledata])\n",
    "    z = np.array([mergedata])\n",
    "\n",
    "    plt.plot(x, y, 'rs', x, z, 'bs')\n",
    "    plt.xlabel('List Length')\n",
    "    plt.ylabel(title)\n",
    "    red_patch = mpatches.Patch(color='red', label='Bubble')\n",
    "    blue_patch = mpatches.Patch(color='blue', label='Merge')\n",
    "    plt.legend(handles=[red_patch,blue_patch],loc='upper left')\n",
    "    plt.show()\n",
    "\n",
    "def comparehist(bubbledata,\n",
    "                   mergedata,\n",
    "                   title=''):\n",
    "    # http://matplotlib.org/examples/api/barchart_demo.html\n",
    "    # https://plot.ly/matplotlib/histograms/\n",
    "    x = bubbledata\n",
    "    y = mergedata\n",
    "    # ylim max\n",
    "    plt.ylim([0,60])\n",
    "    n, bins, patches = plt.hist([x, y])\n",
    "    plt.ylabel('Frequency')\n",
    "    plt.title(title)\n",
    "    plt.legend(('Bubble', 'Merge'), loc='upper right')\n",
    "    plt.show()"
   ]
  },
  {
   "cell_type": "markdown",
   "metadata": {},
   "source": [
    "## Plots of Comparisons, Swaps, and Time"
   ]
  },
  {
   "cell_type": "code",
   "execution_count": 11,
   "metadata": {
    "collapsed": false
   },
   "outputs": [
    {
     "data": {
      "image/png": "[encoded data removed]",
      "text/plain": [
       "<matplotlib.figure.Figure at 0x116d3bf28>"
      ]
     },
     "metadata": {},
     "output_type": "display_data"
    },
    {
     "data": {
      "image/png": "[encoded data removed]",
      "text/plain": [
       "<matplotlib.figure.Figure at 0x1179610b8>"
      ]
     },
     "metadata": {},
     "output_type": "display_data"
    },
    {
     "data": {
      "image/png": "[encoded data removed]",
      "text/plain": [
       "<matplotlib.figure.Figure at 0x1130ba390>"
      ]
     },
     "metadata": {},
     "output_type": "display_data"
    }
   ],
   "source": [
    "comparescat(bubbledata=bubble_comps,\n",
    "               mergedata=merge_comps,\n",
    "                listdata=listlength,\n",
    "               title = 'Number of Comparisons')\n",
    "comparescat(bubbledata=bubble_swaps,\n",
    "               mergedata=merge_swaps,\n",
    "            listdata=listlength,\n",
    "               title = 'Number of Swaps')\n",
    "comparescat(bubbledata=bubble_times,\n",
    "               mergedata=merge_times,\n",
    "            listdata=listlength,\n",
    "               title = 'Time')"
   ]
  },
  {
   "cell_type": "code",
   "execution_count": 12,
   "metadata": {
    "collapsed": false
   },
   "outputs": [
    {
     "data": {
      "image/png": "[encoded data removed]",
      "text/plain": [
       "<matplotlib.figure.Figure at 0x116e87908>"
      ]
     },
     "metadata": {},
     "output_type": "display_data"
    },
    {
     "data": {
      "image/png": "[encoded data removed]",
      "text/plain": [
       "<matplotlib.figure.Figure at 0x116e87fd0>"
      ]
     },
     "metadata": {},
     "output_type": "display_data"
    },
    {
     "data": {
      "image/png": "[encoded data removed]",
      "text/plain": [
       "<matplotlib.figure.Figure at 0x11a80eda0>"
      ]
     },
     "metadata": {},
     "output_type": "display_data"
    }
   ],
   "source": [
    "comparehist(bubbledata=bubble_comps,\n",
    "               mergedata=merge_comps,\n",
    "               title = 'Number of Comparisons')\n",
    "comparehist(bubbledata=bubble_swaps,\n",
    "               mergedata=merge_swaps,\n",
    "               title = 'Number of Swaps')\n",
    "comparehist(bubbledata=bubble_times,\n",
    "               mergedata=merge_times,\n",
    "               title = 'Time')"
   ]
  }
 ],
 "metadata": {
  "anaconda-cloud": {},
  "kernelspec": {
   "display_name": "Python [default]",
   "language": "python",
   "name": "python3"
  },
  "language_info": {
   "codemirror_mode": {
    "name": "ipython",
    "version": 3
   },
   "file_extension": ".py",
   "mimetype": "text/x-python",
   "name": "python",
   "nbconvert_exporter": "python",
   "pygments_lexer": "ipython3",
   "version": "3.5.2"
  }
 },
 "nbformat": 4,
 "nbformat_minor": 1
}
