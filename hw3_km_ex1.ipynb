{
 "cells": [
  {
   "cell_type": "markdown",
   "metadata": {},
   "source": [
    "# Kristin Meier\n",
    "\n",
    "# HW 3\n",
    "\n",
    "## Exercise 1 – Web API\n",
    "\n",
    "Write a python program to do the following:\n",
    "1. Get a one month of historical weather data (i.e. temperatures). In specific: one month of data for 5 distinct locations.\n",
    "2. You can use any WEB service available for free (i.e. Open-Weather-Map, Google, or any other service you may like) make sure to get an API-KEY if required.\n",
    "3. Build a data summary table that summaries max, min, and mean values of the temperature during that month for each location selected.\n",
    "4. Plot a graph that shows your data for the selected locations (to be used as comparative tool, you can choose any graphical presentation as you like)."
   ]
  },
  {
   "cell_type": "markdown",
   "metadata": {},
   "source": [
    "**For non-historical data**\n",
    "\n",
    "- [Weather Underground Example](https://github.com/InitialState/wunderground-sensehat/wiki/Part-1.-How-to-Use-the-Wunderground-API)\n",
    "- [WeatherUnderground API search](https://www.google.com/search?q=weather+underground+API&ie=utf-8&oe=utf-8)"
   ]
  },
  {
   "cell_type": "markdown",
   "metadata": {},
   "source": [
    "### Create list of dates\n",
    "- datelist()\n",
    "    - parameters: \n",
    "        - num_days = # of days to count back from firstdate\n",
    "        - firstdate = most recent date in list \n",
    "    - returns:\n",
    "        - list of dates in format for url\n",
    " \n",
    "Help\n",
    "- [List of dates](http://stackoverflow.com/questions/993358/creating-a-range-of-dates-in-python)\n",
    "- [Date time format](http://stackoverflow.com/questions/6941965/convert-a-date-string-into-yyyymmdd)"
   ]
  },
  {
   "cell_type": "code",
   "execution_count": 1,
   "metadata": {
    "collapsed": false
   },
   "outputs": [],
   "source": [
    "import datetime\n",
    "\n",
    "def datelist(num_days=31,firstdate = datetime.datetime(2016,12,31)):\n",
    "    numdays = num_days\n",
    "    base = firstdate # base = datetime.datetime.today()\n",
    "    date_list = [base - datetime.timedelta(days=x) for x in range(0, numdays)] # create date list\n",
    "    # put date in correct format for url\n",
    "    dates = []\n",
    "    for pos in range(len(date_list)):\n",
    "        dates = dates + [date_list[pos].strftime('%Y%m%d')]\n",
    "\n",
    "    return(dates)"
   ]
  },
  {
   "cell_type": "markdown",
   "metadata": {},
   "source": [
    "## Function to get temperature\n",
    "\n",
    "**MY KEY**: 74dda710a4bd7014 [my account](https://www.wunderground.com/weather/api/d/74dda710a4bd7014/edit.html?api_action=changesubscription&api_history=undefined&api_usage=0&api_package=a)\n",
    "\n",
    "- gettemp()\n",
    "    - Parameters:\n",
    "        - tempdate: date for temperature, in format YYYYMMDD\n",
    "        - stateabb: state abbreviation for temperature, ex. \"NY\"\n",
    "        - city: city for temperature, underscore for space, ex. \"New_York\"\n",
    "    - Returns:\n",
    "        - temperature\n",
    "\n",
    "Help\n",
    "- no urllib2 for python 3, replace that line with \"result = urllib.request.urlopen(url).read()\" and the next line with \"data = json.loads(result.decode())\" The decode function changes the bytes to a string that json can then read.\n",
    "\n",
    "Example url\n",
    "http://api.wunderground.com/api/f5560c9956045526/history_19901221/q/CA/San_Francisco.json"
   ]
  },
  {
   "cell_type": "code",
   "execution_count": 35,
   "metadata": {
    "collapsed": true
   },
   "outputs": [],
   "source": [
    "import urllib, json\n",
    "import urllib.request\n",
    "\n",
    "def gettemp(tempdate,stateabb,city):\n",
    "    base_url ='http://api.wunderground.com/api/74dda710a4bd7014/history_%s/q/%s/%s.json'\n",
    "    url = base_url %(tempdate,stateabb,city)\n",
    "    result = urllib.request.urlopen(url).read()\n",
    "    data = json.loads(result.decode())\n",
    "    return float(data['history']['observations'][0]['tempi'])"
   ]
  },
  {
   "cell_type": "code",
   "execution_count": 36,
   "metadata": {
    "collapsed": false
   },
   "outputs": [
    {
     "data": {
      "text/plain": [
       "21.9"
      ]
     },
     "execution_count": 36,
     "metadata": {},
     "output_type": "execute_result"
    }
   ],
   "source": [
    "gettemp(tempdate=20131231,stateabb=\"NY\",city=\"New_York\")"
   ]
  },
  {
   "cell_type": "markdown",
   "metadata": {},
   "source": [
    "### List of cities, states, and dates"
   ]
  },
  {
   "cell_type": "code",
   "execution_count": 37,
   "metadata": {
    "collapsed": true
   },
   "outputs": [],
   "source": [
    "states = [\"CA\",\"NY\",\"IL\",\"MA\",\"DC\"]\n",
    "cities = [\"San_Francisco\",\"New_York\",\"Chicago\",\"Boston\",\"Washington\"]\n",
    "dates = datelist()\n",
    "dates.reverse() # reverse list to be in chronological order"
   ]
  },
  {
   "cell_type": "markdown",
   "metadata": {},
   "source": [
    "## Get weather data\n",
    "\n",
    "Loops through each location and each date, adding to a **weatherdata** dictionary with the city as the key\n",
    "\n",
    "Having issues with hitting my search limit. If I use my \"rainfall\" allocation I can run the cities one at a time so I did that for the purpose of this assigment. Not sure why one at a time makes a difference from looping through cities. Perhaps I entered a new time allotment this way."
   ]
  },
  {
   "cell_type": "code",
   "execution_count": 63,
   "metadata": {
    "collapsed": false
   },
   "outputs": [],
   "source": [
    "weatherdata = {}\n",
    "\n",
    "for st in range(len(states)):\n",
    "    temp = []\n",
    "    for dt in dates:\n",
    "        newtemp = gettemp(dt,states[st],cities[st])\n",
    "        temp = temp + [newtemp]\n",
    "    weatherdata[cities[st]] = temp"
   ]
  },
  {
   "cell_type": "code",
   "execution_count": 53,
   "metadata": {
    "collapsed": false
   },
   "outputs": [],
   "source": [
    "# went through by city not using big loop due to hitting allocated limit - this worked for some reason\n",
    "#weatherdata = {}\n",
    "'''cities = [\"San_Francisco\",\"New_York\",\"Chicago\",\"Boston\",\"Washington\"]\n",
    "\n",
    "temp = []\n",
    "for dt in dates:\n",
    "    newtemp = gettemp(dt,\"IL\",\"Chicago\")\n",
    "    temp = temp + [newtemp]\n",
    "weatherdata['Chicago'] = temp'''\n",
    "#weatherdata_dc_bos_san_ny_chi # also saved dictionary under this var. in case I need to fix something"
   ]
  },
  {
   "cell_type": "markdown",
   "metadata": {},
   "source": [
    "### Import Pandas, matlotlib and numpy"
   ]
  },
  {
   "cell_type": "code",
   "execution_count": 29,
   "metadata": {
    "collapsed": true
   },
   "outputs": [],
   "source": [
    "import pandas as pd\n",
    "import matplotlib.pyplot as plt\n",
    "import numpy as np"
   ]
  },
  {
   "cell_type": "markdown",
   "metadata": {},
   "source": [
    "### Create pandas data frame from weatherdata dictionary"
   ]
  },
  {
   "cell_type": "code",
   "execution_count": 57,
   "metadata": {
    "collapsed": false
   },
   "outputs": [
    {
     "data": {
      "text/html": [
       "<div>\n",
       "<table border=\"1\" class=\"dataframe\">\n",
       "  <thead>\n",
       "    <tr style=\"text-align: right;\">\n",
       "      <th></th>\n",
       "      <th>Boston</th>\n",
       "      <th>Chicago</th>\n",
       "      <th>New_York</th>\n",
       "      <th>San_Francisco</th>\n",
       "      <th>Washington</th>\n",
       "      <th>date</th>\n",
       "    </tr>\n",
       "  </thead>\n",
       "  <tbody>\n",
       "    <tr>\n",
       "      <th>0</th>\n",
       "      <td>48.0</td>\n",
       "      <td>36.0</td>\n",
       "      <td>52.0</td>\n",
       "      <td>48.9</td>\n",
       "      <td>62.1</td>\n",
       "      <td>20161201</td>\n",
       "    </tr>\n",
       "    <tr>\n",
       "      <th>1</th>\n",
       "      <td>42.1</td>\n",
       "      <td>37.0</td>\n",
       "      <td>42.1</td>\n",
       "      <td>55.9</td>\n",
       "      <td>48.0</td>\n",
       "      <td>20161202</td>\n",
       "    </tr>\n",
       "    <tr>\n",
       "      <th>2</th>\n",
       "      <td>42.1</td>\n",
       "      <td>33.1</td>\n",
       "      <td>44.1</td>\n",
       "      <td>50.0</td>\n",
       "      <td>45.0</td>\n",
       "      <td>20161203</td>\n",
       "    </tr>\n",
       "    <tr>\n",
       "      <th>3</th>\n",
       "      <td>35.1</td>\n",
       "      <td>32.0</td>\n",
       "      <td>42.1</td>\n",
       "      <td>48.9</td>\n",
       "      <td>41.0</td>\n",
       "      <td>20161204</td>\n",
       "    </tr>\n",
       "    <tr>\n",
       "      <th>4</th>\n",
       "      <td>30.9</td>\n",
       "      <td>33.1</td>\n",
       "      <td>41.0</td>\n",
       "      <td>54.0</td>\n",
       "      <td>39.9</td>\n",
       "      <td>20161205</td>\n",
       "    </tr>\n",
       "    <tr>\n",
       "      <th>5</th>\n",
       "      <td>37.0</td>\n",
       "      <td>35.1</td>\n",
       "      <td>41.0</td>\n",
       "      <td>50.0</td>\n",
       "      <td>45.0</td>\n",
       "      <td>20161206</td>\n",
       "    </tr>\n",
       "    <tr>\n",
       "      <th>6</th>\n",
       "      <td>41.0</td>\n",
       "      <td>26.1</td>\n",
       "      <td>41.0</td>\n",
       "      <td>46.0</td>\n",
       "      <td>45.0</td>\n",
       "      <td>20161207</td>\n",
       "    </tr>\n",
       "    <tr>\n",
       "      <th>7</th>\n",
       "      <td>39.0</td>\n",
       "      <td>24.1</td>\n",
       "      <td>42.1</td>\n",
       "      <td>48.9</td>\n",
       "      <td>37.9</td>\n",
       "      <td>20161208</td>\n",
       "    </tr>\n",
       "    <tr>\n",
       "      <th>8</th>\n",
       "      <td>34.0</td>\n",
       "      <td>21.0</td>\n",
       "      <td>35.6</td>\n",
       "      <td>57.0</td>\n",
       "      <td>33.1</td>\n",
       "      <td>20161209</td>\n",
       "    </tr>\n",
       "    <tr>\n",
       "      <th>9</th>\n",
       "      <td>25.0</td>\n",
       "      <td>19.0</td>\n",
       "      <td>30.0</td>\n",
       "      <td>61.0</td>\n",
       "      <td>32.0</td>\n",
       "      <td>20161210</td>\n",
       "    </tr>\n",
       "    <tr>\n",
       "      <th>10</th>\n",
       "      <td>21.9</td>\n",
       "      <td>24.8</td>\n",
       "      <td>28.9</td>\n",
       "      <td>52.0</td>\n",
       "      <td>30.0</td>\n",
       "      <td>20161211</td>\n",
       "    </tr>\n",
       "    <tr>\n",
       "      <th>11</th>\n",
       "      <td>28.9</td>\n",
       "      <td>30.0</td>\n",
       "      <td>35.1</td>\n",
       "      <td>50.0</td>\n",
       "      <td>43.0</td>\n",
       "      <td>20161212</td>\n",
       "    </tr>\n",
       "    <tr>\n",
       "      <th>12</th>\n",
       "      <td>37.9</td>\n",
       "      <td>12.9</td>\n",
       "      <td>39.0</td>\n",
       "      <td>52.0</td>\n",
       "      <td>43.0</td>\n",
       "      <td>20161213</td>\n",
       "    </tr>\n",
       "    <tr>\n",
       "      <th>13</th>\n",
       "      <td>37.0</td>\n",
       "      <td>3.0</td>\n",
       "      <td>39.9</td>\n",
       "      <td>53.1</td>\n",
       "      <td>41.0</td>\n",
       "      <td>20161214</td>\n",
       "    </tr>\n",
       "    <tr>\n",
       "      <th>14</th>\n",
       "      <td>28.9</td>\n",
       "      <td>3.0</td>\n",
       "      <td>34.0</td>\n",
       "      <td>57.9</td>\n",
       "      <td>39.0</td>\n",
       "      <td>20161215</td>\n",
       "    </tr>\n",
       "    <tr>\n",
       "      <th>15</th>\n",
       "      <td>10.9</td>\n",
       "      <td>8.1</td>\n",
       "      <td>19.0</td>\n",
       "      <td>52.0</td>\n",
       "      <td>18.0</td>\n",
       "      <td>20161216</td>\n",
       "    </tr>\n",
       "    <tr>\n",
       "      <th>16</th>\n",
       "      <td>23.0</td>\n",
       "      <td>21.0</td>\n",
       "      <td>27.0</td>\n",
       "      <td>45.0</td>\n",
       "      <td>30.0</td>\n",
       "      <td>20161217</td>\n",
       "    </tr>\n",
       "    <tr>\n",
       "      <th>17</th>\n",
       "      <td>36.0</td>\n",
       "      <td>18.0</td>\n",
       "      <td>39.0</td>\n",
       "      <td>42.1</td>\n",
       "      <td>46.9</td>\n",
       "      <td>20161218</td>\n",
       "    </tr>\n",
       "    <tr>\n",
       "      <th>18</th>\n",
       "      <td>32.0</td>\n",
       "      <td>-8.0</td>\n",
       "      <td>30.9</td>\n",
       "      <td>42.1</td>\n",
       "      <td>35.1</td>\n",
       "      <td>20161219</td>\n",
       "    </tr>\n",
       "    <tr>\n",
       "      <th>19</th>\n",
       "      <td>19.9</td>\n",
       "      <td>15.1</td>\n",
       "      <td>23.0</td>\n",
       "      <td>48.0</td>\n",
       "      <td>30.0</td>\n",
       "      <td>20161220</td>\n",
       "    </tr>\n",
       "    <tr>\n",
       "      <th>20</th>\n",
       "      <td>34.0</td>\n",
       "      <td>21.9</td>\n",
       "      <td>30.9</td>\n",
       "      <td>51.1</td>\n",
       "      <td>28.9</td>\n",
       "      <td>20161221</td>\n",
       "    </tr>\n",
       "    <tr>\n",
       "      <th>21</th>\n",
       "      <td>33.1</td>\n",
       "      <td>32.0</td>\n",
       "      <td>39.0</td>\n",
       "      <td>50.0</td>\n",
       "      <td>37.0</td>\n",
       "      <td>20161222</td>\n",
       "    </tr>\n",
       "    <tr>\n",
       "      <th>22</th>\n",
       "      <td>37.0</td>\n",
       "      <td>27.0</td>\n",
       "      <td>41.0</td>\n",
       "      <td>48.9</td>\n",
       "      <td>39.0</td>\n",
       "      <td>20161223</td>\n",
       "    </tr>\n",
       "    <tr>\n",
       "      <th>23</th>\n",
       "      <td>37.0</td>\n",
       "      <td>34.0</td>\n",
       "      <td>42.1</td>\n",
       "      <td>46.9</td>\n",
       "      <td>42.1</td>\n",
       "      <td>20161224</td>\n",
       "    </tr>\n",
       "    <tr>\n",
       "      <th>24</th>\n",
       "      <td>39.9</td>\n",
       "      <td>33.1</td>\n",
       "      <td>41.0</td>\n",
       "      <td>39.9</td>\n",
       "      <td>41.0</td>\n",
       "      <td>20161225</td>\n",
       "    </tr>\n",
       "    <tr>\n",
       "      <th>25</th>\n",
       "      <td>27.0</td>\n",
       "      <td>39.9</td>\n",
       "      <td>35.1</td>\n",
       "      <td>45.0</td>\n",
       "      <td>39.0</td>\n",
       "      <td>20161226</td>\n",
       "    </tr>\n",
       "    <tr>\n",
       "      <th>26</th>\n",
       "      <td>48.0</td>\n",
       "      <td>27.0</td>\n",
       "      <td>51.1</td>\n",
       "      <td>43.0</td>\n",
       "      <td>52.0</td>\n",
       "      <td>20161227</td>\n",
       "    </tr>\n",
       "    <tr>\n",
       "      <th>27</th>\n",
       "      <td>39.0</td>\n",
       "      <td>21.0</td>\n",
       "      <td>39.0</td>\n",
       "      <td>44.1</td>\n",
       "      <td>50.0</td>\n",
       "      <td>20161228</td>\n",
       "    </tr>\n",
       "    <tr>\n",
       "      <th>28</th>\n",
       "      <td>30.9</td>\n",
       "      <td>34.0</td>\n",
       "      <td>34.0</td>\n",
       "      <td>46.0</td>\n",
       "      <td>37.9</td>\n",
       "      <td>20161229</td>\n",
       "    </tr>\n",
       "    <tr>\n",
       "      <th>29</th>\n",
       "      <td>35.1</td>\n",
       "      <td>30.0</td>\n",
       "      <td>37.0</td>\n",
       "      <td>50.0</td>\n",
       "      <td>41.0</td>\n",
       "      <td>20161230</td>\n",
       "    </tr>\n",
       "    <tr>\n",
       "      <th>30</th>\n",
       "      <td>28.9</td>\n",
       "      <td>37.0</td>\n",
       "      <td>33.1</td>\n",
       "      <td>50.0</td>\n",
       "      <td>32.0</td>\n",
       "      <td>20161231</td>\n",
       "    </tr>\n",
       "  </tbody>\n",
       "</table>\n",
       "</div>"
      ],
      "text/plain": [
       "    Boston  Chicago  New_York  San_Francisco  Washington      date\n",
       "0     48.0     36.0      52.0           48.9        62.1  20161201\n",
       "1     42.1     37.0      42.1           55.9        48.0  20161202\n",
       "2     42.1     33.1      44.1           50.0        45.0  20161203\n",
       "3     35.1     32.0      42.1           48.9        41.0  20161204\n",
       "4     30.9     33.1      41.0           54.0        39.9  20161205\n",
       "5     37.0     35.1      41.0           50.0        45.0  20161206\n",
       "6     41.0     26.1      41.0           46.0        45.0  20161207\n",
       "7     39.0     24.1      42.1           48.9        37.9  20161208\n",
       "8     34.0     21.0      35.6           57.0        33.1  20161209\n",
       "9     25.0     19.0      30.0           61.0        32.0  20161210\n",
       "10    21.9     24.8      28.9           52.0        30.0  20161211\n",
       "11    28.9     30.0      35.1           50.0        43.0  20161212\n",
       "12    37.9     12.9      39.0           52.0        43.0  20161213\n",
       "13    37.0      3.0      39.9           53.1        41.0  20161214\n",
       "14    28.9      3.0      34.0           57.9        39.0  20161215\n",
       "15    10.9      8.1      19.0           52.0        18.0  20161216\n",
       "16    23.0     21.0      27.0           45.0        30.0  20161217\n",
       "17    36.0     18.0      39.0           42.1        46.9  20161218\n",
       "18    32.0     -8.0      30.9           42.1        35.1  20161219\n",
       "19    19.9     15.1      23.0           48.0        30.0  20161220\n",
       "20    34.0     21.9      30.9           51.1        28.9  20161221\n",
       "21    33.1     32.0      39.0           50.0        37.0  20161222\n",
       "22    37.0     27.0      41.0           48.9        39.0  20161223\n",
       "23    37.0     34.0      42.1           46.9        42.1  20161224\n",
       "24    39.9     33.1      41.0           39.9        41.0  20161225\n",
       "25    27.0     39.9      35.1           45.0        39.0  20161226\n",
       "26    48.0     27.0      51.1           43.0        52.0  20161227\n",
       "27    39.0     21.0      39.0           44.1        50.0  20161228\n",
       "28    30.9     34.0      34.0           46.0        37.9  20161229\n",
       "29    35.1     30.0      37.0           50.0        41.0  20161230\n",
       "30    28.9     37.0      33.1           50.0        32.0  20161231"
      ]
     },
     "execution_count": 57,
     "metadata": {},
     "output_type": "execute_result"
    }
   ],
   "source": [
    "weatherdata['date'] = dates\n",
    "weatherdf = pd.DataFrame(weatherdata)\n",
    "weatherdf"
   ]
  },
  {
   "cell_type": "markdown",
   "metadata": {},
   "source": [
    "### Create summary\n",
    "Data summary table that summaries max, min, and mean values. \n",
    "[Modify describe output](http://stackoverflow.com/questions/19124148/modify-output-from-python-pandas-describe)"
   ]
  },
  {
   "cell_type": "code",
   "execution_count": 58,
   "metadata": {
    "collapsed": false
   },
   "outputs": [
    {
     "data": {
      "text/html": [
       "<div>\n",
       "<table border=\"1\" class=\"dataframe\">\n",
       "  <thead>\n",
       "    <tr style=\"text-align: right;\">\n",
       "      <th></th>\n",
       "      <th>Boston</th>\n",
       "      <th>Chicago</th>\n",
       "      <th>New_York</th>\n",
       "      <th>San_Francisco</th>\n",
       "      <th>Washington</th>\n",
       "    </tr>\n",
       "  </thead>\n",
       "  <tbody>\n",
       "    <tr>\n",
       "      <th>max</th>\n",
       "      <td>48.0</td>\n",
       "      <td>40.0</td>\n",
       "      <td>52.0</td>\n",
       "      <td>61.0</td>\n",
       "      <td>62.0</td>\n",
       "    </tr>\n",
       "    <tr>\n",
       "      <th>min</th>\n",
       "      <td>11.0</td>\n",
       "      <td>-8.0</td>\n",
       "      <td>19.0</td>\n",
       "      <td>40.0</td>\n",
       "      <td>18.0</td>\n",
       "    </tr>\n",
       "    <tr>\n",
       "      <th>mean</th>\n",
       "      <td>34.0</td>\n",
       "      <td>25.0</td>\n",
       "      <td>37.0</td>\n",
       "      <td>49.0</td>\n",
       "      <td>40.0</td>\n",
       "    </tr>\n",
       "  </tbody>\n",
       "</table>\n",
       "</div>"
      ],
      "text/plain": [
       "      Boston  Chicago  New_York  San_Francisco  Washington\n",
       "max     48.0     40.0      52.0           61.0        62.0\n",
       "min     11.0     -8.0      19.0           40.0        18.0\n",
       "mean    34.0     25.0      37.0           49.0        40.0"
      ]
     },
     "execution_count": 58,
     "metadata": {},
     "output_type": "execute_result"
    }
   ],
   "source": [
    "summary = round(weatherdf.describe().loc[['max','min','mean']])\n",
    "summary"
   ]
  },
  {
   "cell_type": "markdown",
   "metadata": {},
   "source": [
    "### Plot data\n",
    "\n",
    "Plot a line graph for temperature over time in each location.\n",
    "\n",
    "Convert dates to date format for x-axis. \n",
    "- [Get dates as x-axis](http://stackoverflow.com/questions/14513339/date-is-not-displayed-correctly-when-plot-pandas-dataframe)\n",
    "- [Sorting date issues](http://stackoverflow.com/questions/21782642/sorting-python-pandas-dataframe-with-respect-to-a-column-of-type-object)\n",
    "- [Controlling Legend](http://stackoverflow.com/questions/4700614/how-to-put-the-legend-out-of-the-plot)"
   ]
  },
  {
   "cell_type": "code",
   "execution_count": 59,
   "metadata": {
    "collapsed": false
   },
   "outputs": [],
   "source": [
    "# convert dates\n",
    "# sorted by descending date in the order the table was made (list of dates)\n",
    "# set index to date for plot! - now it will show on x axis\n",
    "weatherdf.date = pd.to_datetime(weatherdf['date'],format='%Y%m%d')\n",
    "weatherdf.set_index('date', inplace=True) # replace key to date so that is xaxis for plot"
   ]
  },
  {
   "cell_type": "code",
   "execution_count": 62,
   "metadata": {
    "collapsed": false
   },
   "outputs": [
    {
     "data": {
      "image/png": "[encoded data removed]",
      "text/plain": [
       "<matplotlib.figure.Figure at 0x117785f98>"
      ]
     },
     "metadata": {},
     "output_type": "display_data"
    }
   ],
   "source": [
    "# super easy to plot multiple columns!!!\n",
    "\n",
    "testplot = weatherdf.plot(title='December 2016 Temperatures (Fahrenheit)',legend=False)\n",
    "box = testplot.get_position()\n",
    "testplot.legend(loc='center left', ncol = 1, bbox_to_anchor=(1, 0.5)) # legend to the right plot w/ bbox_to_anchor\n",
    "\n",
    "plt.show()"
   ]
  }
 ],
 "metadata": {
  "anaconda-cloud": {},
  "kernelspec": {
   "display_name": "Python [default]",
   "language": "python",
   "name": "python3"
  },
  "language_info": {
   "codemirror_mode": {
    "name": "ipython",
    "version": 3
   },
   "file_extension": ".py",
   "mimetype": "text/x-python",
   "name": "python",
   "nbconvert_exporter": "python",
   "pygments_lexer": "ipython3",
   "version": "3.5.2"
  }
 },
 "nbformat": 4,
 "nbformat_minor": 1
}
