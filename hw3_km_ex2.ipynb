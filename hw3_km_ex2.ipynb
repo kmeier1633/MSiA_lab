{
 "cells": [
  {
   "cell_type": "markdown",
   "metadata": {},
   "source": [
    "# Kristin Meier\n",
    "# Hw 3\n",
    "\n",
    "## Excercise 2 - Web Scraping\n",
    "\n",
    "Rewrite the scraping sample done in the class – jail house inmates – not to use RegEx, instead use BeautifulSoap library.\n",
    "\n",
    "[Jail House Inmates](https://report.boonecountymo.org/mrcjava/servlet/SH01_MP.I00290s)\n",
    "\n",
    "**Helpful Links**\n",
    "- [Beginner's guide to web scraping](https://www.analyticsvidhya.com/blog/2015/10/beginner-guide-web-scraping-beautiful-soup-python/)\n",
    "- [HTML Tagging](http://www.w3schools.com/TAgs/tag_td.asp)\n",
    "- [Beautiful Soup Help](https://web.stanford.edu/~zlotnick/TextAsData/Web_Scraping_with_Beautiful_Soup.html)"
   ]
  },
  {
   "cell_type": "code",
   "execution_count": 149,
   "metadata": {
    "collapsed": true
   },
   "outputs": [],
   "source": [
    "url = 'http://www.showmeboone.com/sheriff/JailResidents/JailResidents.asp'\n"
   ]
  },
  {
   "cell_type": "code",
   "execution_count": 150,
   "metadata": {
    "collapsed": true
   },
   "outputs": [],
   "source": [
    "from bs4 import BeautifulSoup"
   ]
  },
  {
   "cell_type": "markdown",
   "metadata": {},
   "source": [
    "\"You should probably use an HTTP client like requests to get the document behind the URL, and feed that document to Beautiful Soup.\""
   ]
  },
  {
   "cell_type": "code",
   "execution_count": 151,
   "metadata": {
    "collapsed": false
   },
   "outputs": [],
   "source": [
    "import urllib.request #import the library used to query a website\n",
    "wiki = url1 #specify the url\n",
    "page = urllib.request.urlopen(wiki) # Query the website and return the html to the variable 'page'"
   ]
  },
  {
   "cell_type": "code",
   "execution_count": 178,
   "metadata": {
    "collapsed": false
   },
   "outputs": [],
   "source": [
    "soup = BeautifulSoup(page,\"lxml\")\n",
    "#soup.prettify"
   ]
  },
  {
   "cell_type": "markdown",
   "metadata": {},
   "source": [
    "### Finding the table to look at"
   ]
  },
  {
   "cell_type": "code",
   "execution_count": 126,
   "metadata": {
    "collapsed": false
   },
   "outputs": [],
   "source": [
    "all_tables = soup.find_all('table') # exploring tables, find table I need\n",
    "bigtable = soup.find('table',class_='collapse shadow BCSDTable') # bs4.element.Tag"
   ]
  },
  {
   "cell_type": "markdown",
   "metadata": {},
   "source": [
    "### Loop through rows of table data to get entries"
   ]
  },
  {
   "cell_type": "code",
   "execution_count": 127,
   "metadata": {
    "collapsed": true
   },
   "outputs": [],
   "source": [
    "# Initiate Lists\n",
    "lname = []\n",
    "fname = []\n",
    "mname = []\n",
    "sex = []\n",
    "race = []\n",
    "age = []\n",
    "city = []\n",
    "state = []"
   ]
  },
  {
   "cell_type": "code",
   "execution_count": 128,
   "metadata": {
    "collapsed": true
   },
   "outputs": [],
   "source": [
    "for row in bigtable.findAll(\"tr\"): # each row of table\n",
    "    cells = row.findAll(\"td\") # table data\n",
    "    if len(cells) == 9: # exclude table headers and other info\n",
    "        # index 1 - 8\n",
    "        lname.append(cells[1].string)\n",
    "        fname.append(cells[2].string)\n",
    "        mname.append(cells[3].string)\n",
    "        sex.append(cells[4].string)\n",
    "        race.append(cells[5].string)\n",
    "        age.append(cells[6].string)\n",
    "        city.append(cells[7].string)\n",
    "        state.append(cells[8].string)"
   ]
  },
  {
   "cell_type": "markdown",
   "metadata": {},
   "source": [
    "### Create pandas dataframe"
   ]
  },
  {
   "cell_type": "code",
   "execution_count": 129,
   "metadata": {
    "collapsed": true
   },
   "outputs": [],
   "source": [
    "import pandas as pd\n",
    "import matplotlib.pyplot as plt\n",
    "import numpy as np"
   ]
  },
  {
   "cell_type": "code",
   "execution_count": 130,
   "metadata": {
    "collapsed": false
   },
   "outputs": [],
   "source": [
    "prisoners = pd.DataFrame(\n",
    "    {'lname': lname,\n",
    "     'fname': fname,\n",
    "     'mname': mname,\n",
    "     'sex': sex,\n",
    "     'race': race,\n",
    "     'age': age,\n",
    "     'city': city,\n",
    "     'state': state\n",
    "    })"
   ]
  },
  {
   "cell_type": "code",
   "execution_count": 131,
   "metadata": {
    "collapsed": false
   },
   "outputs": [
    {
     "data": {
      "text/html": [
       "<div>\n",
       "<table border=\"1\" class=\"dataframe\">\n",
       "  <thead>\n",
       "    <tr style=\"text-align: right;\">\n",
       "      <th></th>\n",
       "      <th>age</th>\n",
       "      <th>city</th>\n",
       "      <th>fname</th>\n",
       "      <th>lname</th>\n",
       "      <th>mname</th>\n",
       "      <th>race</th>\n",
       "      <th>sex</th>\n",
       "      <th>state</th>\n",
       "    </tr>\n",
       "  </thead>\n",
       "  <tbody>\n",
       "    <tr>\n",
       "      <th>0</th>\n",
       "      <td>22</td>\n",
       "      <td>COLUMBIA</td>\n",
       "      <td>BENJAMIN</td>\n",
       "      <td>ALEXANDER</td>\n",
       "      <td>FRANKLIN</td>\n",
       "      <td>B</td>\n",
       "      <td>M</td>\n",
       "      <td>MO</td>\n",
       "    </tr>\n",
       "    <tr>\n",
       "      <th>1</th>\n",
       "      <td>30</td>\n",
       "      <td>ST. LOUIS</td>\n",
       "      <td>ANDRE</td>\n",
       "      <td>ANDERSON</td>\n",
       "      <td>LAMONTE</td>\n",
       "      <td>B</td>\n",
       "      <td>M</td>\n",
       "      <td>MO</td>\n",
       "    </tr>\n",
       "    <tr>\n",
       "      <th>2</th>\n",
       "      <td>25</td>\n",
       "      <td>JEFFERSON CITY</td>\n",
       "      <td>BRAYAN</td>\n",
       "      <td>ARTEAGA</td>\n",
       "      <td>OSIRIS-CACHO</td>\n",
       "      <td>H</td>\n",
       "      <td>M</td>\n",
       "      <td>MO</td>\n",
       "    </tr>\n",
       "    <tr>\n",
       "      <th>3</th>\n",
       "      <td>20</td>\n",
       "      <td>PILOT GROVE</td>\n",
       "      <td>ASHLEY</td>\n",
       "      <td>AUBREY</td>\n",
       "      <td>SUZANNE</td>\n",
       "      <td>B</td>\n",
       "      <td>F</td>\n",
       "      <td>MO</td>\n",
       "    </tr>\n",
       "    <tr>\n",
       "      <th>4</th>\n",
       "      <td>33</td>\n",
       "      <td>KANSAS CITY</td>\n",
       "      <td>KAY</td>\n",
       "      <td>AUSTIN</td>\n",
       "      <td>CEE</td>\n",
       "      <td>W</td>\n",
       "      <td>F</td>\n",
       "      <td>MO</td>\n",
       "    </tr>\n",
       "  </tbody>\n",
       "</table>\n",
       "</div>"
      ],
      "text/plain": [
       "  age            city     fname      lname         mname race sex state\n",
       "0  22        COLUMBIA  BENJAMIN  ALEXANDER      FRANKLIN    B   M    MO\n",
       "1  30       ST. LOUIS     ANDRE   ANDERSON       LAMONTE    B   M    MO\n",
       "2  25  JEFFERSON CITY    BRAYAN    ARTEAGA  OSIRIS-CACHO    H   M    MO\n",
       "3  20     PILOT GROVE    ASHLEY     AUBREY       SUZANNE    B   F    MO\n",
       "4  33     KANSAS CITY       KAY     AUSTIN           CEE    W   F    MO"
      ]
     },
     "execution_count": 131,
     "metadata": {},
     "output_type": "execute_result"
    }
   ],
   "source": [
    "# convert age to numeric for averages\n",
    "prisoners.age = pd.to_numeric(prisoners.age)\n",
    "# prisoners.dtypes\n",
    "prisoners.head()"
   ]
  },
  {
   "cell_type": "code",
   "execution_count": 132,
   "metadata": {
    "collapsed": false
   },
   "outputs": [
    {
     "data": {
      "text/html": [
       "<div>\n",
       "<table border=\"1\" class=\"dataframe\">\n",
       "  <thead>\n",
       "    <tr style=\"text-align: right;\">\n",
       "      <th></th>\n",
       "      <th>fname</th>\n",
       "    </tr>\n",
       "    <tr>\n",
       "      <th>sex</th>\n",
       "      <th></th>\n",
       "    </tr>\n",
       "  </thead>\n",
       "  <tbody>\n",
       "    <tr>\n",
       "      <th>F</th>\n",
       "      <td>10</td>\n",
       "    </tr>\n",
       "    <tr>\n",
       "      <th>M</th>\n",
       "      <td>40</td>\n",
       "    </tr>\n",
       "  </tbody>\n",
       "</table>\n",
       "</div>"
      ],
      "text/plain": [
       "     fname\n",
       "sex       \n",
       "F       10\n",
       "M       40"
      ]
     },
     "execution_count": 132,
     "metadata": {},
     "output_type": "execute_result"
    }
   ],
   "source": [
    "#GROUP BY\n",
    "prisoners.groupby('sex').count()[['fname']]"
   ]
  },
  {
   "cell_type": "code",
   "execution_count": 135,
   "metadata": {
    "collapsed": false
   },
   "outputs": [
    {
     "data": {
      "text/html": [
       "<div>\n",
       "<table border=\"1\" class=\"dataframe\">\n",
       "  <thead>\n",
       "    <tr style=\"text-align: right;\">\n",
       "      <th></th>\n",
       "      <th>fname</th>\n",
       "    </tr>\n",
       "    <tr>\n",
       "      <th>city</th>\n",
       "      <th></th>\n",
       "    </tr>\n",
       "  </thead>\n",
       "  <tbody>\n",
       "    <tr>\n",
       "      <th>CENTRALIA</th>\n",
       "      <td>1</td>\n",
       "    </tr>\n",
       "    <tr>\n",
       "      <th>COLUMBIA</th>\n",
       "      <td>35</td>\n",
       "    </tr>\n",
       "    <tr>\n",
       "      <th>FORDYCE</th>\n",
       "      <td>1</td>\n",
       "    </tr>\n",
       "    <tr>\n",
       "      <th>FULTON</th>\n",
       "      <td>1</td>\n",
       "    </tr>\n",
       "    <tr>\n",
       "      <th>HALLSVILLE</th>\n",
       "      <td>1</td>\n",
       "    </tr>\n",
       "    <tr>\n",
       "      <th>HEDRICK</th>\n",
       "      <td>1</td>\n",
       "    </tr>\n",
       "    <tr>\n",
       "      <th>JACKSON</th>\n",
       "      <td>1</td>\n",
       "    </tr>\n",
       "    <tr>\n",
       "      <th>JEFFERSON CITY</th>\n",
       "      <td>2</td>\n",
       "    </tr>\n",
       "    <tr>\n",
       "      <th>KANSAS CITY</th>\n",
       "      <td>1</td>\n",
       "    </tr>\n",
       "    <tr>\n",
       "      <th>MOBERLY</th>\n",
       "      <td>1</td>\n",
       "    </tr>\n",
       "    <tr>\n",
       "      <th>PILOT GROVE</th>\n",
       "      <td>1</td>\n",
       "    </tr>\n",
       "    <tr>\n",
       "      <th>SPRINGFIELD</th>\n",
       "      <td>1</td>\n",
       "    </tr>\n",
       "    <tr>\n",
       "      <th>ST LOUIS</th>\n",
       "      <td>1</td>\n",
       "    </tr>\n",
       "    <tr>\n",
       "      <th>ST. LOUIS</th>\n",
       "      <td>2</td>\n",
       "    </tr>\n",
       "  </tbody>\n",
       "</table>\n",
       "</div>"
      ],
      "text/plain": [
       "                fname\n",
       "city                 \n",
       "CENTRALIA           1\n",
       "COLUMBIA           35\n",
       "FORDYCE             1\n",
       "FULTON              1\n",
       "HALLSVILLE          1\n",
       "HEDRICK             1\n",
       "JACKSON             1\n",
       "JEFFERSON CITY      2\n",
       "KANSAS CITY         1\n",
       "MOBERLY             1\n",
       "PILOT GROVE         1\n",
       "SPRINGFIELD         1\n",
       "ST LOUIS            1\n",
       "ST. LOUIS           2"
      ]
     },
     "execution_count": 135,
     "metadata": {},
     "output_type": "execute_result"
    }
   ],
   "source": [
    "prisoners.groupby('city').count()[['fname']]"
   ]
  },
  {
   "cell_type": "code",
   "execution_count": 146,
   "metadata": {
    "collapsed": false
   },
   "outputs": [
    {
     "data": {
      "text/plain": [
       "age    33.2\n",
       "dtype: float64"
      ]
     },
     "execution_count": 146,
     "metadata": {},
     "output_type": "execute_result"
    }
   ],
   "source": [
    "prisoners[['age']].mean()"
   ]
  },
  {
   "cell_type": "code",
   "execution_count": 177,
   "metadata": {
    "collapsed": false
   },
   "outputs": [
    {
     "data": {
      "image/png": "[encoded data removed]",
      "text/plain": [
       "<matplotlib.figure.Figure at 0x10d1d2be0>"
      ]
     },
     "metadata": {},
     "output_type": "display_data"
    }
   ],
   "source": [
    "# Male and female frequencies and proportions\n",
    "a = prisoners.groupby('sex').count()[['fname']]\n",
    "tot = len(prisoners)\n",
    "a['prop'] = a['fname']/tot\n",
    "\n",
    "#%pylab inline\n",
    "alphab = [a.index[0],a.index[1]] # dynamic labels \n",
    "proportions = a['prop'] # proportion column\n",
    "frequencies = a['fname'] # frequency column\n",
    "\n",
    "pos = np.arange(len(alphab))\n",
    "width = 1.0     # gives histogram aspect to the bar diagram\n",
    "\n",
    "ax = plt.axes()\n",
    "ax.set_xticks(pos + (width / 2))\n",
    "ax.set_xticklabels(alphab)\n",
    "\n",
    "plt.bar(pos, proportions, width, color='r')\n",
    "plt.title(\"Proportions of Population by Gender\")\n",
    "\n",
    "plt.bar(pos, frequencies, width, color='b')\n",
    "plt.title(\"Frequencies of Population by Gender\")\n",
    "\n",
    "plt.show()"
   ]
  },
  {
   "cell_type": "markdown",
   "metadata": {},
   "source": [
    "### Scraping from the next page\n",
    "\n",
    "Links\n",
    "- [stack overfow](http://stackoverflow.com/questions/26497722/scrape-multiple-pages-with-beautifulsoup-and-python)\n"
   ]
  }
 ],
 "metadata": {
  "anaconda-cloud": {},
  "kernelspec": {
   "display_name": "Python [default]",
   "language": "python",
   "name": "python3"
  },
  "language_info": {
   "codemirror_mode": {
    "name": "ipython",
    "version": 3
   },
   "file_extension": ".py",
   "mimetype": "text/x-python",
   "name": "python",
   "nbconvert_exporter": "python",
   "pygments_lexer": "ipython3",
   "version": "3.5.2"
  }
 },
 "nbformat": 4,
 "nbformat_minor": 1
}
