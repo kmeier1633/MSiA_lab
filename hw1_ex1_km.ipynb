{
 "cells": [
  {
   "cell_type": "markdown",
   "metadata": {
    "collapsed": false
   },
   "source": [
    "# Kristin Meier \n",
    "# Hw\n",
    "\n",
    "## Exercise 1 – Procedural vs Functional Programming\n",
    "Write a program (function!) that takes a list of mixed integers and strings. \n",
    "The function returns the Count of the integer’s items and the word count of the strings items.\n",
    "Write two different functions to do this - one using a loop (procedural) and constructing a list, \n",
    "and another using comprehension (functional).\n",
    "Test your code using randomly generated lists (random numbers and random words with random order)\n",
    "Use TimeIt standard library and matplotlib to present the performance difference among the 2 solutions \n",
    "for different list sizes.\n",
    "Example: L = [2, 3, ’word’, -1, ’python programming language’, 9, 321]\n",
    "Count of Numbers: 5\n",
    "Count of words: 4\n",
    "\n",
    "\n",
    "### HELPFUL LINKS\n",
    "- (http://matplotlib.org/1.3.1/api/pyplot_api.html)\n",
    "- (http://www.geeksforgeeks.org/timeit-python-examples/)\n",
    "- (http://www.python-course.eu/numpy.php)\n",
    "- (https://pypi.python.org/pypi/RandomWords/0.1.5)"
   ]
  },
  {
   "cell_type": "code",
   "execution_count": 1,
   "metadata": {
    "collapsed": true
   },
   "outputs": [],
   "source": [
    "# input list example\n",
    "L = [2, 3, 'word', -1, 'python programming language', 9, 321]"
   ]
  },
  {
   "cell_type": "markdown",
   "metadata": {},
   "source": [
    "### Functions\n",
    "- Procedural function: ex1procedural()\n",
    "- Functional function: ex1functional()\n",
    "\n",
    "**Output format: [Count of integers, Count of words]**"
   ]
  },
  {
   "cell_type": "code",
   "execution_count": 2,
   "metadata": {
    "collapsed": true
   },
   "outputs": [],
   "source": [
    "# procedural method\n",
    "def ex1procedural(list):\n",
    "# initialize counts\n",
    "    count_int = 0\n",
    "    count_words = 0\n",
    "# loop through \n",
    "    for x in list:\n",
    "        # count of integers\n",
    "        if type(x) == int:\n",
    "            count_int += 1\n",
    "        # count of words\n",
    "        if type(x) == str:\n",
    "            count_words += len(x.split())\n",
    "    return [count_int,count_words]\n",
    "    \n",
    "    \n",
    "# list comprehension method\n",
    "def ex1functional(list):\n",
    "    return [sum([1 for x in list if type(x) == int]),sum([len(x.split()) for x in list if type(x) == str])]"
   ]
  },
  {
   "cell_type": "markdown",
   "metadata": {},
   "source": [
    "### Randomly generated list\n",
    "- Function to generate list: randlist(length)\n",
    "    - length = list length\n",
    "    - Assumptions:\n",
    "        - list length must be >= 2\n",
    "            - if = 2, list will consist of 1 word and 1 integer\n",
    "        - integers will range in value from 1 to 100,000"
   ]
  },
  {
   "cell_type": "code",
   "execution_count": 3,
   "metadata": {
    "collapsed": false
   },
   "outputs": [],
   "source": [
    "# generating random list to test\n",
    "# randomly generated lists (random numbers and random words with random order)\n",
    "\n",
    "import random\n",
    "from random_words import RandomWords\n",
    "rw = RandomWords()\n",
    "\n",
    "def randlist(length=25):\n",
    "    # length is the length of the list\n",
    "    num_numbers = random.sample(range(1, length-1), 1)[0]\n",
    "    num_words = length - num_numbers\n",
    "    # random list of numbers\n",
    "    numlist = random.sample(range(1, 100000), num_numbers)\n",
    "    # random list of words\n",
    "    wordlist = rw.random_words(count=num_words)\n",
    "    # combine lists\n",
    "    thelist = numlist + wordlist\n",
    "    # randomly order\n",
    "    random.shuffle(thelist)\n",
    "    return thelist"
   ]
  },
  {
   "cell_type": "code",
   "execution_count": null,
   "metadata": {
    "collapsed": true
   },
   "outputs": [],
   "source": []
  },
  {
   "cell_type": "markdown",
   "metadata": {},
   "source": [
    "### Use timeit to test both solutions\n",
    "\n",
    "- loops through different list lengths to calculate the time for both functions\n",
    "- starting with list length 5 up to 1000"
   ]
  },
  {
   "cell_type": "code",
   "execution_count": 4,
   "metadata": {
    "collapsed": false
   },
   "outputs": [],
   "source": [
    "# calculate the times \n",
    "import timeit\n",
    "\n",
    "proceduraltimes = []\n",
    "functionaltimes = []\n",
    "listlength = []\n",
    "\n",
    "for i in list(range(5, 2000, 100)):\n",
    "    input = randlist(i)\n",
    "    \n",
    "    new_procedural_time = timeit.timeit(lambda: ex1procedural(input), number=1000)\n",
    "    new_functional_time = timeit.timeit(lambda: ex1functional(input), number=1000)\n",
    "\n",
    "    proceduraltimes = proceduraltimes + [new_procedural_time]\n",
    "    functionaltimes = functionaltimes + [new_functional_time]\n",
    "    listlength = listlength + [len(input)]\n"
   ]
  },
  {
   "cell_type": "markdown",
   "metadata": {},
   "source": [
    "### Use matplotlib to graph performance difference\n",
    "\n",
    "Originally my random list generator function created a list made up of the same amount of words as integers, just in a random order. The graph showed a clear linear pattern. Now my list is created with the count of words and integers varying (also randomly chosen) and the graph is a bit messier. The functional still performs slightly better as the list length increases."
   ]
  },
  {
   "cell_type": "code",
   "execution_count": 5,
   "metadata": {
    "collapsed": false
   },
   "outputs": [
    {
     "data": {
      "image/png": "[encoded data removed]",
      "text/plain": [
       "<matplotlib.figure.Figure at 0x104a51e80>"
      ]
     },
     "metadata": {},
     "output_type": "display_data"
    }
   ],
   "source": [
    "import matplotlib.pyplot as plt\n",
    "import pylab\n",
    "\n",
    "x = listlength\n",
    "y = proceduraltimes\n",
    "z = functionaltimes\n",
    "\n",
    "plt.plot(x, y, 'rs', x, z, 'bs')\n",
    "plt.xlabel('List Length')\n",
    "plt.ylabel('Seconds')\n",
    "plt.legend( ('Procedural', 'Functional'), loc='upper left' )\n",
    "\n",
    "\n",
    "plt.show()"
   ]
  }
 ],
 "metadata": {
  "anaconda-cloud": {},
  "kernelspec": {
   "display_name": "Python [default]",
   "language": "python",
   "name": "python3"
  },
  "language_info": {
   "codemirror_mode": {
    "name": "ipython",
    "version": 3
   },
   "file_extension": ".py",
   "mimetype": "text/x-python",
   "name": "python",
   "nbconvert_exporter": "python",
   "pygments_lexer": "ipython3",
   "version": "3.5.2"
  }
 },
 "nbformat": 4,
 "nbformat_minor": 1
}
